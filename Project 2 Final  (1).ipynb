{
 "cells": [
  {
   "cell_type": "markdown",
   "metadata": {},
   "source": [
    "# Project 2"
   ]
  },
  {
   "cell_type": "markdown",
   "metadata": {},
   "source": [
    "## Scientific Question: Is it possible that M. vaccae can be used to help prevent mental health disorders such as anxiety and PTSD?"
   ]
  },
  {
   "cell_type": "markdown",
   "metadata": {},
   "source": [
    "A novel anti-inflammatory molecule, 1,2,3-tri [Z-hexadecenoyl] glycerol, was derived from Mycobacterium vaccae, and is responsible for the soil-dwelling bacterium's unique anti-inflammatory properties (Smith et al., 2019).\n",
    "\n",
    "Previous studies have shown that immunization with M. vaccae has led to the prevention of stress-induced and anti-inflammatory responses in different experimental situations. Yet, not much was known about the effects of M. vaccae in \"anxiety- and fear-related defensive behavioral responses\" (Smith et al., 2019).\n",
    "\n",
    "Since the discovery of the novel anti-inflammatory molecule and its effects, many studies have shifted their focus to studying the effects of immunization with M. vaccae in stress coping behaviors and fear-conditioned responses. Moreso, there are many studies that focuses on the protective effects of M. vaccace in a mice model of tuberculosis (Gong et al., 2020). \n",
    "\n",
    "There are multiple studies that have studied M. vaccae and its effects. The sequence of Mycobacterium vaccae can be found in NCBI's Sequenced Read Archive. As stated on their website: \n",
    "\n",
    "\"The Sequence Read Archive (SRA) stores raw sequence data from \"next-generation\" sequencing technologies including Illumina, 454, IonTorrent, Complete Genomics, PacBio and OxfordNanopores. In addition to raw sequence data, SRA now stores alignment information in the form of read placements on a reference sequence.\"\n",
    "\n"
   ]
  },
  {
   "cell_type": "markdown",
   "metadata": {},
   "source": [
    "## Scientific Hypothesis: If M. vaccae has protective effect such as inhibiting inflammation, then the bacterium can be used to prevent mental health disorders such as anxiety and PTSD."
   ]
  },
  {
   "cell_type": "markdown",
   "metadata": {},
   "source": [
    "RNA seq analysis was conducted to analyze M. vaccae's effects by specifically looking at which genes were being differentially expressed in certain inflammatory pathways. Then, heat plots were used to display which genes were in fact being differentially expressed, and linked to either anti-inflammatory or inflammatory pathways.\n",
    "\n",
    "To test the scientific question and hypothesis, RNA seq analysis was performed using the data from SRA. SRA contains many raw sequence data and every sequence has an accession number assigned to it for identification. The accession number corresponding to M. vaccae was retrieved and converted to an FASTQ file. From there, RNA seq analysis was conducted to check for differentially expressed genes. To perform RNA seq analysis, pyrpipe was downloaded and loaded on Jupyter notebook.\n",
    "\n"
   ]
  },
  {
   "cell_type": "markdown",
   "metadata": {},
   "source": [
    "## Part 1: Load the packages"
   ]
  },
  {
   "cell_type": "markdown",
   "metadata": {},
   "source": [
    "- pyrpipe: a python package specifically created for the RNA seq workflow"
   ]
  },
  {
   "cell_type": "code",
   "execution_count": 2,
   "metadata": {},
   "outputs": [
    {
     "name": "stdout",
     "output_type": "stream",
     "text": [
      "Requirement already up-to-date: pyrpipe in c:\\users\\owner\\anaconda3\\lib\\site-packages (0.0.5)\n",
      "Requirement already satisfied, skipping upgrade: weasyprint in c:\\users\\owner\\anaconda3\\lib\\site-packages (from pyrpipe) (52.5)\n",
      "Requirement already satisfied, skipping upgrade: importlib-resources in c:\\users\\owner\\anaconda3\\lib\\site-packages (from pyrpipe) (5.1.4)\n",
      "Requirement already satisfied, skipping upgrade: seaborn in c:\\users\\owner\\anaconda3\\lib\\site-packages (from pyrpipe) (0.11.0)\n",
      "Requirement already satisfied, skipping upgrade: jinja2 in c:\\users\\owner\\anaconda3\\lib\\site-packages (from pyrpipe) (2.11.2)\n",
      "Requirement already satisfied, skipping upgrade: pyyaml in c:\\users\\owner\\anaconda3\\lib\\site-packages (from pyrpipe) (5.3.1)\n",
      "Requirement already satisfied, skipping upgrade: colorama in c:\\users\\owner\\anaconda3\\lib\\site-packages (from pyrpipe) (0.4.4)\n",
      "Requirement already satisfied, skipping upgrade: psutil in c:\\users\\owner\\anaconda3\\lib\\site-packages (from pyrpipe) (5.7.2)\n",
      "Requirement already satisfied, skipping upgrade: multiqc in c:\\users\\owner\\anaconda3\\lib\\site-packages (from pyrpipe) (1.10.1)\n",
      "Requirement already satisfied, skipping upgrade: dill in c:\\users\\owner\\anaconda3\\lib\\site-packages (from pyrpipe) (0.3.3)\n",
      "Requirement already satisfied, skipping upgrade: html5lib>=0.999999999 in c:\\users\\owner\\anaconda3\\lib\\site-packages (from weasyprint->pyrpipe) (1.1)\n",
      "Requirement already satisfied, skipping upgrade: Pillow>=4.0.0 in c:\\users\\owner\\anaconda3\\lib\\site-packages (from weasyprint->pyrpipe) (8.0.1)\n",
      "Requirement already satisfied, skipping upgrade: setuptools>=39.2.0 in c:\\users\\owner\\anaconda3\\lib\\site-packages (from weasyprint->pyrpipe) (50.3.1.post20201107)\n",
      "Requirement already satisfied, skipping upgrade: Pyphen>=0.9.1 in c:\\users\\owner\\anaconda3\\lib\\site-packages (from weasyprint->pyrpipe) (0.10.0)\n",
      "Requirement already satisfied, skipping upgrade: tinycss2>=1.0.0 in c:\\users\\owner\\anaconda3\\lib\\site-packages (from weasyprint->pyrpipe) (1.1.0)\n",
      "Requirement already satisfied, skipping upgrade: cssselect2>=0.1 in c:\\users\\owner\\anaconda3\\lib\\site-packages (from weasyprint->pyrpipe) (0.4.1)\n",
      "Requirement already satisfied, skipping upgrade: CairoSVG>=2.4.0 in c:\\users\\owner\\anaconda3\\lib\\site-packages (from weasyprint->pyrpipe) (2.5.2)\n",
      "Requirement already satisfied, skipping upgrade: cffi>=0.6 in c:\\users\\owner\\anaconda3\\lib\\site-packages (from weasyprint->pyrpipe) (1.14.3)\n",
      "Requirement already satisfied, skipping upgrade: cairocffi>=0.9.0 in c:\\users\\owner\\anaconda3\\lib\\site-packages (from weasyprint->pyrpipe) (1.2.0)\n",
      "Requirement already satisfied, skipping upgrade: zipp>=3.1.0; python_version < \"3.10\" in c:\\users\\owner\\anaconda3\\lib\\site-packages (from importlib-resources->pyrpipe) (3.4.0)\n",
      "Requirement already satisfied, skipping upgrade: matplotlib>=2.2 in c:\\users\\owner\\anaconda3\\lib\\site-packages (from seaborn->pyrpipe) (3.3.2)\n",
      "Requirement already satisfied, skipping upgrade: scipy>=1.0 in c:\\users\\owner\\anaconda3\\lib\\site-packages (from seaborn->pyrpipe) (1.5.2)\n",
      "Requirement already satisfied, skipping upgrade: numpy>=1.15 in c:\\users\\owner\\anaconda3\\lib\\site-packages (from seaborn->pyrpipe) (1.19.2)\n",
      "Note: you may need to restart the kernel to use updated packages.Requirement already satisfied, skipping upgrade: pandas>=0.23 in c:\\users\\owner\\anaconda3\\lib\\site-packages (from seaborn->pyrpipe) (1.1.3)\n",
      "Requirement already satisfied, skipping upgrade: MarkupSafe>=0.23 in c:\\users\\owner\\anaconda3\\lib\\site-packages (from jinja2->pyrpipe) (1.1.1)\n",
      "\n",
      "Requirement already satisfied, skipping upgrade: lzstring in c:\\users\\owner\\anaconda3\\lib\\site-packages (from multiqc->pyrpipe) (1.0.4)\n",
      "Requirement already satisfied, skipping upgrade: simplejson in c:\\users\\owner\\anaconda3\\lib\\site-packages (from multiqc->pyrpipe) (3.17.2)\n",
      "Requirement already satisfied, skipping upgrade: rich>=9.4.0 in c:\\users\\owner\\anaconda3\\lib\\site-packages (from multiqc->pyrpipe) (10.2.2)\n",
      "Requirement already satisfied, skipping upgrade: spectra>=0.0.10 in c:\\users\\owner\\anaconda3\\lib\\site-packages (from multiqc->pyrpipe) (0.0.11)\n",
      "Requirement already satisfied, skipping upgrade: coloredlogs in c:\\users\\owner\\anaconda3\\lib\\site-packages (from multiqc->pyrpipe) (15.0)\n",
      "Requirement already satisfied, skipping upgrade: markdown in c:\\users\\owner\\anaconda3\\lib\\site-packages (from multiqc->pyrpipe) (3.3.4)\n",
      "Requirement already satisfied, skipping upgrade: requests in c:\\users\\owner\\anaconda3\\lib\\site-packages (from multiqc->pyrpipe) (2.24.0)\n",
      "Requirement already satisfied, skipping upgrade: future>0.14.0 in c:\\users\\owner\\anaconda3\\lib\\site-packages (from multiqc->pyrpipe) (0.18.2)\n",
      "Requirement already satisfied, skipping upgrade: networkx in c:\\users\\owner\\anaconda3\\lib\\site-packages (from multiqc->pyrpipe) (2.5)\n",
      "Requirement already satisfied, skipping upgrade: click in c:\\users\\owner\\anaconda3\\lib\\site-packages (from multiqc->pyrpipe) (7.1.2)\n",
      "Requirement already satisfied, skipping upgrade: six>=1.9 in c:\\users\\owner\\anaconda3\\lib\\site-packages (from html5lib>=0.999999999->weasyprint->pyrpipe) (1.15.0)\n",
      "Requirement already satisfied, skipping upgrade: webencodings in c:\\users\\owner\\anaconda3\\lib\\site-packages (from html5lib>=0.999999999->weasyprint->pyrpipe) (0.5.1)\n",
      "Requirement already satisfied, skipping upgrade: defusedxml in c:\\users\\owner\\anaconda3\\lib\\site-packages (from CairoSVG>=2.4.0->weasyprint->pyrpipe) (0.6.0)\n",
      "Requirement already satisfied, skipping upgrade: pycparser in c:\\users\\owner\\anaconda3\\lib\\site-packages (from cffi>=0.6->weasyprint->pyrpipe) (2.20)\n",
      "Requirement already satisfied, skipping upgrade: cycler>=0.10 in c:\\users\\owner\\anaconda3\\lib\\site-packages (from matplotlib>=2.2->seaborn->pyrpipe) (0.10.0)\n",
      "Requirement already satisfied, skipping upgrade: pyparsing!=2.0.4,!=2.1.2,!=2.1.6,>=2.0.3 in c:\\users\\owner\\anaconda3\\lib\\site-packages (from matplotlib>=2.2->seaborn->pyrpipe) (2.4.7)\n",
      "Requirement already satisfied, skipping upgrade: python-dateutil>=2.1 in c:\\users\\owner\\anaconda3\\lib\\site-packages (from matplotlib>=2.2->seaborn->pyrpipe) (2.8.1)\n",
      "Requirement already satisfied, skipping upgrade: kiwisolver>=1.0.1 in c:\\users\\owner\\anaconda3\\lib\\site-packages (from matplotlib>=2.2->seaborn->pyrpipe) (1.3.0)\n",
      "Requirement already satisfied, skipping upgrade: certifi>=2020.06.20 in c:\\users\\owner\\anaconda3\\lib\\site-packages (from matplotlib>=2.2->seaborn->pyrpipe) (2020.6.20)\n",
      "Requirement already satisfied, skipping upgrade: pytz>=2017.2 in c:\\users\\owner\\anaconda3\\lib\\site-packages (from pandas>=0.23->seaborn->pyrpipe) (2020.1)\n",
      "Requirement already satisfied, skipping upgrade: pygments<3.0.0,>=2.6.0 in c:\\users\\owner\\anaconda3\\lib\\site-packages (from rich>=9.4.0->multiqc->pyrpipe) (2.7.2)\n",
      "Requirement already satisfied, skipping upgrade: commonmark<0.10.0,>=0.9.0 in c:\\users\\owner\\anaconda3\\lib\\site-packages (from rich>=9.4.0->multiqc->pyrpipe) (0.9.1)\n",
      "Requirement already satisfied, skipping upgrade: colormath>=3.0.0 in c:\\users\\owner\\anaconda3\\lib\\site-packages (from spectra>=0.0.10->multiqc->pyrpipe) (3.0.0)\n",
      "Requirement already satisfied, skipping upgrade: humanfriendly>=9.1 in c:\\users\\owner\\anaconda3\\lib\\site-packages (from coloredlogs->multiqc->pyrpipe) (9.1)\n",
      "Requirement already satisfied, skipping upgrade: idna<3,>=2.5 in c:\\users\\owner\\anaconda3\\lib\\site-packages (from requests->multiqc->pyrpipe) (2.10)\n",
      "Requirement already satisfied, skipping upgrade: chardet<4,>=3.0.2 in c:\\users\\owner\\anaconda3\\lib\\site-packages (from requests->multiqc->pyrpipe) (3.0.4)\n",
      "Requirement already satisfied, skipping upgrade: urllib3!=1.25.0,!=1.25.1,<1.26,>=1.21.1 in c:\\users\\owner\\anaconda3\\lib\\site-packages (from requests->multiqc->pyrpipe) (1.25.11)\n",
      "Requirement already satisfied, skipping upgrade: decorator>=4.3.0 in c:\\users\\owner\\anaconda3\\lib\\site-packages (from networkx->multiqc->pyrpipe) (4.4.2)\n",
      "Requirement already satisfied, skipping upgrade: pyreadline; sys_platform == \"win32\" in c:\\users\\owner\\anaconda3\\lib\\site-packages (from humanfriendly>=9.1->coloredlogs->multiqc->pyrpipe) (2.1)\n"
     ]
    }
   ],
   "source": [
    "pip install pyrpipe --upgrade"
   ]
  },
  {
   "cell_type": "code",
   "execution_count": 3,
   "metadata": {},
   "outputs": [
    {
     "name": "stdout",
     "output_type": "stream",
     "text": [
      "Collecting package metadata (current_repodata.json): ...working... done\n",
      "Solving environment: ...working... failed with initial frozen solve. Retrying with flexible solve.\n",
      "Solving environment: ...working... failed with repodata from current_repodata.json, will retry with next repodata source.\n",
      "Collecting package metadata (repodata.json): ...working... done\n",
      "Solving environment: ...working... failed with initial frozen solve. Retrying with flexible solve.\n",
      "Solving environment: ...working... \n",
      "Found conflicts! Looking for incompatible packages.\n",
      "This can take several minutes.  Press CTRL-C to abort.\n",
      "failed\n",
      "Note: you may need to restart the kernel to use updated packages.\n",
      "\n"
     ]
    },
    {
     "name": "stderr",
     "output_type": "stream",
     "text": [
      "\n",
      "Building graph of deps:   0%|          | 0/4 [00:00<?, ?it/s]\n",
      "Examining pyrpipe:   0%|          | 0/4 [00:00<?, ?it/s]     \n",
      "Examining python=3.8:  25%|##5       | 1/4 [00:00<00:00, 15.52it/s]\n",
      "Examining @/win-64::__archspec==1=x86_64:  50%|#####     | 2/4 [00:00<00:00,  6.48it/s]\n",
      "Examining @/win-64::__archspec==1=x86_64:  75%|#######5  | 3/4 [00:00<00:00,  9.72it/s]\n",
      "Examining @/win-64::__win==0=0:  75%|#######5  | 3/4 [00:00<00:00,  9.72it/s]          \n",
      "                                                                             \n",
      "\n",
      "Determining conflicts:   0%|          | 0/4 [00:00<?, ?it/s]\n",
      "Examining conflict for pyrpipe python:   0%|          | 0/4 [00:00<?, ?it/s]\n",
      "                                                                            \n",
      "\n",
      "UnsatisfiableError: The following specifications were found to be incompatible with each other:\n",
      "\n",
      "Output in format: Requested package -> Available versions\n",
      "\n"
     ]
    }
   ],
   "source": [
    "conda install -c bioconda pyrpipe"
   ]
  },
  {
   "cell_type": "code",
   "execution_count": 5,
   "metadata": {},
   "outputs": [
    {
     "ename": "OSError",
     "evalue": "no library called \"cairo\" was found\nno library called \"libcairo-2\" was found\ncannot load library 'libcairo.so.2': error 0x7e\ncannot load library 'libcairo.2.dylib': error 0x7e\ncannot load library 'libcairo-2.dll': error 0x7e",
     "output_type": "error",
     "traceback": [
      "\u001b[1;31m---------------------------------------------------------------------------\u001b[0m",
      "\u001b[1;31mOSError\u001b[0m                                   Traceback (most recent call last)",
      "\u001b[1;32m<ipython-input-5-0d380dd66281>\u001b[0m in \u001b[0;36m<module>\u001b[1;34m\u001b[0m\n\u001b[1;32m----> 1\u001b[1;33m \u001b[1;32mfrom\u001b[0m \u001b[0mpyrpipe\u001b[0m \u001b[1;32mimport\u001b[0m \u001b[0msra\u001b[0m\u001b[1;33m\u001b[0m\u001b[1;33m\u001b[0m\u001b[0m\n\u001b[0m\u001b[0;32m      2\u001b[0m \u001b[1;32mfrom\u001b[0m \u001b[0mpyrpipe\u001b[0m \u001b[1;32mimport\u001b[0m \u001b[0mmapping\u001b[0m\u001b[1;33m\u001b[0m\u001b[1;33m\u001b[0m\u001b[0m\n\u001b[0;32m      3\u001b[0m \u001b[1;32mfrom\u001b[0m \u001b[0mpyrpipe\u001b[0m \u001b[1;32mimport\u001b[0m \u001b[0massembly\u001b[0m\u001b[1;33m\u001b[0m\u001b[1;33m\u001b[0m\u001b[0m\n\u001b[0;32m      4\u001b[0m \u001b[1;32mfrom\u001b[0m \u001b[0mpyrpipe\u001b[0m \u001b[1;32mimport\u001b[0m \u001b[0mqc\u001b[0m\u001b[1;33m\u001b[0m\u001b[1;33m\u001b[0m\u001b[0m\n\u001b[0;32m      5\u001b[0m \u001b[1;32mfrom\u001b[0m \u001b[0mpyrpipe\u001b[0m \u001b[1;32mimport\u001b[0m \u001b[0mtools\u001b[0m\u001b[1;33m\u001b[0m\u001b[1;33m\u001b[0m\u001b[0m\n",
      "\u001b[1;32m~\\anaconda3\\lib\\site-packages\\pyrpipe\\__init__.py\u001b[0m in \u001b[0;36m<module>\u001b[1;34m\u001b[0m\n\u001b[0;32m     26\u001b[0m \u001b[1;32mimport\u001b[0m \u001b[0matexit\u001b[0m\u001b[1;33m\u001b[0m\u001b[1;33m\u001b[0m\u001b[0m\n\u001b[0;32m     27\u001b[0m \u001b[1;32mfrom\u001b[0m \u001b[0mpyrpipe\u001b[0m \u001b[1;32mimport\u001b[0m \u001b[0mpyrpipe_utils\u001b[0m \u001b[1;32mas\u001b[0m \u001b[0mpu\u001b[0m\u001b[1;33m\u001b[0m\u001b[1;33m\u001b[0m\u001b[0m\n\u001b[1;32m---> 28\u001b[1;33m \u001b[1;32mfrom\u001b[0m \u001b[0mpyrpipe\u001b[0m \u001b[1;32mimport\u001b[0m \u001b[0mreports\u001b[0m\u001b[1;33m\u001b[0m\u001b[1;33m\u001b[0m\u001b[0m\n\u001b[0m\u001b[0;32m     29\u001b[0m \u001b[1;32mimport\u001b[0m \u001b[0muuid\u001b[0m\u001b[1;33m\u001b[0m\u001b[1;33m\u001b[0m\u001b[0m\n\u001b[0;32m     30\u001b[0m \u001b[1;33m\u001b[0m\u001b[0m\n",
      "\u001b[1;32m~\\anaconda3\\lib\\site-packages\\pyrpipe\\reports.py\u001b[0m in \u001b[0;36m<module>\u001b[1;34m\u001b[0m\n\u001b[0;32m     12\u001b[0m \u001b[1;32mfrom\u001b[0m \u001b[0mpyrpipe\u001b[0m \u001b[1;32mimport\u001b[0m \u001b[0mpyrpipe_utils\u001b[0m \u001b[1;32mas\u001b[0m \u001b[0mpu\u001b[0m\u001b[1;33m\u001b[0m\u001b[1;33m\u001b[0m\u001b[0m\n\u001b[0;32m     13\u001b[0m \u001b[1;32mfrom\u001b[0m \u001b[0mjinja2\u001b[0m \u001b[1;32mimport\u001b[0m \u001b[0mEnvironment\u001b[0m\u001b[1;33m,\u001b[0m \u001b[0mBaseLoader\u001b[0m\u001b[1;33m\u001b[0m\u001b[1;33m\u001b[0m\u001b[0m\n\u001b[1;32m---> 14\u001b[1;33m \u001b[1;32mfrom\u001b[0m \u001b[0mweasyprint\u001b[0m \u001b[1;32mimport\u001b[0m \u001b[0mHTML\u001b[0m\u001b[1;33m,\u001b[0m\u001b[0mCSS\u001b[0m\u001b[1;33m\u001b[0m\u001b[1;33m\u001b[0m\u001b[0m\n\u001b[0m\u001b[0;32m     15\u001b[0m \u001b[1;32mfrom\u001b[0m \u001b[0mhtml\u001b[0m \u001b[1;32mimport\u001b[0m \u001b[0mescape\u001b[0m\u001b[1;33m\u001b[0m\u001b[1;33m\u001b[0m\u001b[0m\n\u001b[0;32m     16\u001b[0m \u001b[1;32mimport\u001b[0m \u001b[0mdatetime\u001b[0m \u001b[1;32mas\u001b[0m \u001b[0mdt\u001b[0m\u001b[1;33m\u001b[0m\u001b[1;33m\u001b[0m\u001b[0m\n",
      "\u001b[1;32m~\\anaconda3\\lib\\site-packages\\weasyprint\\__init__.py\u001b[0m in \u001b[0;36m<module>\u001b[1;34m\u001b[0m\n\u001b[0;32m    467\u001b[0m \u001b[1;33m\u001b[0m\u001b[0m\n\u001b[0;32m    468\u001b[0m \u001b[1;31m# Work around circular imports.\u001b[0m\u001b[1;33m\u001b[0m\u001b[1;33m\u001b[0m\u001b[1;33m\u001b[0m\u001b[0m\n\u001b[1;32m--> 469\u001b[1;33m \u001b[1;32mfrom\u001b[0m \u001b[1;33m.\u001b[0m\u001b[0mcss\u001b[0m \u001b[1;32mimport\u001b[0m \u001b[0mpreprocess_stylesheet\u001b[0m  \u001b[1;31m# noqa isort:skip\u001b[0m\u001b[1;33m\u001b[0m\u001b[1;33m\u001b[0m\u001b[0m\n\u001b[0m\u001b[0;32m    470\u001b[0m from .html import (  # noqa isort:skip\n\u001b[0;32m    471\u001b[0m     \u001b[0mHTML5_UA_COUNTER_STYLE\u001b[0m\u001b[1;33m,\u001b[0m \u001b[0mHTML5_UA_STYLESHEET\u001b[0m\u001b[1;33m,\u001b[0m \u001b[0mHTML5_PH_STYLESHEET\u001b[0m\u001b[1;33m,\u001b[0m\u001b[1;33m\u001b[0m\u001b[1;33m\u001b[0m\u001b[0m\n",
      "\u001b[1;32m~\\anaconda3\\lib\\site-packages\\weasyprint\\css\\__init__.py\u001b[0m in \u001b[0;36m<module>\u001b[1;34m\u001b[0m\n\u001b[0;32m     25\u001b[0m \u001b[1;32mfrom\u001b[0m \u001b[1;33m.\u001b[0m\u001b[1;33m.\u001b[0m\u001b[0mlogger\u001b[0m \u001b[1;32mimport\u001b[0m \u001b[0mLOGGER\u001b[0m\u001b[1;33m,\u001b[0m \u001b[0mPROGRESS_LOGGER\u001b[0m\u001b[1;33m\u001b[0m\u001b[1;33m\u001b[0m\u001b[0m\n\u001b[0;32m     26\u001b[0m \u001b[1;32mfrom\u001b[0m \u001b[1;33m.\u001b[0m\u001b[1;33m.\u001b[0m\u001b[0murls\u001b[0m \u001b[1;32mimport\u001b[0m \u001b[0mURLFetchingError\u001b[0m\u001b[1;33m,\u001b[0m \u001b[0mget_url_attribute\u001b[0m\u001b[1;33m,\u001b[0m \u001b[0murl_join\u001b[0m\u001b[1;33m\u001b[0m\u001b[1;33m\u001b[0m\u001b[0m\n\u001b[1;32m---> 27\u001b[1;33m \u001b[1;32mfrom\u001b[0m \u001b[1;33m.\u001b[0m \u001b[1;32mimport\u001b[0m \u001b[0mcomputed_values\u001b[0m\u001b[1;33m,\u001b[0m \u001b[0mcounters\u001b[0m\u001b[1;33m,\u001b[0m \u001b[0mmedia_queries\u001b[0m\u001b[1;33m\u001b[0m\u001b[1;33m\u001b[0m\u001b[0m\n\u001b[0m\u001b[0;32m     28\u001b[0m \u001b[1;32mfrom\u001b[0m \u001b[1;33m.\u001b[0m\u001b[0mproperties\u001b[0m \u001b[1;32mimport\u001b[0m \u001b[0mINHERITED\u001b[0m\u001b[1;33m,\u001b[0m \u001b[0mINITIAL_NOT_COMPUTED\u001b[0m\u001b[1;33m,\u001b[0m \u001b[0mINITIAL_VALUES\u001b[0m\u001b[1;33m\u001b[0m\u001b[1;33m\u001b[0m\u001b[0m\n\u001b[0;32m     29\u001b[0m \u001b[1;32mfrom\u001b[0m \u001b[1;33m.\u001b[0m\u001b[0mutils\u001b[0m \u001b[1;32mimport\u001b[0m \u001b[0mget_url\u001b[0m\u001b[1;33m,\u001b[0m \u001b[0mremove_whitespace\u001b[0m\u001b[1;33m\u001b[0m\u001b[1;33m\u001b[0m\u001b[0m\n",
      "\u001b[1;32m~\\anaconda3\\lib\\site-packages\\weasyprint\\css\\computed_values.py\u001b[0m in \u001b[0;36m<module>\u001b[1;34m\u001b[0m\n\u001b[0;32m     13\u001b[0m \u001b[1;32mfrom\u001b[0m \u001b[0mtinycss2\u001b[0m\u001b[1;33m.\u001b[0m\u001b[0mcolor3\u001b[0m \u001b[1;32mimport\u001b[0m \u001b[0mparse_color\u001b[0m\u001b[1;33m\u001b[0m\u001b[1;33m\u001b[0m\u001b[0m\n\u001b[0;32m     14\u001b[0m \u001b[1;33m\u001b[0m\u001b[0m\n\u001b[1;32m---> 15\u001b[1;33m \u001b[1;32mfrom\u001b[0m \u001b[1;33m.\u001b[0m\u001b[1;33m.\u001b[0m \u001b[1;32mimport\u001b[0m \u001b[0mtext\u001b[0m\u001b[1;33m\u001b[0m\u001b[1;33m\u001b[0m\u001b[0m\n\u001b[0m\u001b[0;32m     16\u001b[0m \u001b[1;32mfrom\u001b[0m \u001b[1;33m.\u001b[0m\u001b[1;33m.\u001b[0m\u001b[0mlogger\u001b[0m \u001b[1;32mimport\u001b[0m \u001b[0mLOGGER\u001b[0m\u001b[1;33m\u001b[0m\u001b[1;33m\u001b[0m\u001b[0m\n\u001b[0;32m     17\u001b[0m \u001b[1;32mfrom\u001b[0m \u001b[1;33m.\u001b[0m\u001b[1;33m.\u001b[0m\u001b[0murls\u001b[0m \u001b[1;32mimport\u001b[0m \u001b[0mget_link_attribute\u001b[0m\u001b[1;33m\u001b[0m\u001b[1;33m\u001b[0m\u001b[0m\n",
      "\u001b[1;32m~\\anaconda3\\lib\\site-packages\\weasyprint\\text.py\u001b[0m in \u001b[0;36m<module>\u001b[1;34m\u001b[0m\n\u001b[0;32m      9\u001b[0m \u001b[1;32mimport\u001b[0m \u001b[0mre\u001b[0m\u001b[1;33m\u001b[0m\u001b[1;33m\u001b[0m\u001b[0m\n\u001b[0;32m     10\u001b[0m \u001b[1;33m\u001b[0m\u001b[0m\n\u001b[1;32m---> 11\u001b[1;33m \u001b[1;32mimport\u001b[0m \u001b[0mcairocffi\u001b[0m \u001b[1;32mas\u001b[0m \u001b[0mcairo\u001b[0m\u001b[1;33m\u001b[0m\u001b[1;33m\u001b[0m\u001b[0m\n\u001b[0m\u001b[0;32m     12\u001b[0m \u001b[1;32mimport\u001b[0m \u001b[0mcffi\u001b[0m\u001b[1;33m\u001b[0m\u001b[1;33m\u001b[0m\u001b[0m\n\u001b[0;32m     13\u001b[0m \u001b[1;32mimport\u001b[0m \u001b[0mpyphen\u001b[0m\u001b[1;33m\u001b[0m\u001b[1;33m\u001b[0m\u001b[0m\n",
      "\u001b[1;32m~\\anaconda3\\lib\\site-packages\\cairocffi\\__init__.py\u001b[0m in \u001b[0;36m<module>\u001b[1;34m\u001b[0m\n\u001b[0;32m     46\u001b[0m \u001b[1;33m\u001b[0m\u001b[0m\n\u001b[0;32m     47\u001b[0m \u001b[1;33m\u001b[0m\u001b[0m\n\u001b[1;32m---> 48\u001b[1;33m cairo = dlopen(\n\u001b[0m\u001b[0;32m     49\u001b[0m     \u001b[0mffi\u001b[0m\u001b[1;33m,\u001b[0m \u001b[1;33m(\u001b[0m\u001b[1;34m'cairo'\u001b[0m\u001b[1;33m,\u001b[0m \u001b[1;34m'libcairo-2'\u001b[0m\u001b[1;33m)\u001b[0m\u001b[1;33m,\u001b[0m\u001b[1;33m\u001b[0m\u001b[1;33m\u001b[0m\u001b[0m\n\u001b[0;32m     50\u001b[0m     ('libcairo.so.2', 'libcairo.2.dylib', 'libcairo-2.dll'))\n",
      "\u001b[1;32m~\\anaconda3\\lib\\site-packages\\cairocffi\\__init__.py\u001b[0m in \u001b[0;36mdlopen\u001b[1;34m(ffi, library_names, filenames)\u001b[0m\n\u001b[0;32m     43\u001b[0m     error_message = '\\n'.join(  # pragma: no cover\n\u001b[0;32m     44\u001b[0m         str(exception) for exception in exceptions)\n\u001b[1;32m---> 45\u001b[1;33m     \u001b[1;32mraise\u001b[0m \u001b[0mOSError\u001b[0m\u001b[1;33m(\u001b[0m\u001b[0merror_message\u001b[0m\u001b[1;33m)\u001b[0m  \u001b[1;31m# pragma: no cover\u001b[0m\u001b[1;33m\u001b[0m\u001b[1;33m\u001b[0m\u001b[0m\n\u001b[0m\u001b[0;32m     46\u001b[0m \u001b[1;33m\u001b[0m\u001b[0m\n\u001b[0;32m     47\u001b[0m \u001b[1;33m\u001b[0m\u001b[0m\n",
      "\u001b[1;31mOSError\u001b[0m: no library called \"cairo\" was found\nno library called \"libcairo-2\" was found\ncannot load library 'libcairo.so.2': error 0x7e\ncannot load library 'libcairo.2.dylib': error 0x7e\ncannot load library 'libcairo-2.dll': error 0x7e"
     ]
    }
   ],
   "source": [
    "from pyrpipe import sra\n",
    "from pyrpipe import mapping\n",
    "from pyrpipe import assembly\n",
    "from pyrpipe import qc\n",
    "from pyrpipe import tools"
   ]
  },
  {
   "cell_type": "markdown",
   "metadata": {},
   "source": [
    "## Part 2: Load in the data and perform Bioinformatics Analyses (RNA Seq)"
   ]
  },
  {
   "cell_type": "code",
   "execution_count": null,
   "metadata": {},
   "outputs": [],
   "source": [
    "# SRR accessions used in the data"
   ]
  },
  {
   "cell_type": "code",
   "execution_count": null,
   "metadata": {},
   "outputs": [],
   "source": [
    "runs = ['SRR8510482', 'SRR8510481', 'SRR8510480']\n",
    "workingDir = ''"
   ]
  },
  {
   "cell_type": "code",
   "execution_count": null,
   "metadata": {},
   "outputs": [],
   "source": [
    "# create SRA objects for the SRR accessions"
   ]
  },
  {
   "cell_type": "code",
   "execution_count": null,
   "metadata": {},
   "outputs": [],
   "source": [
    "sraObs = []\n",
    "for x in runs:\n",
    "    ob = sra.SRA(x,workingDir)"
   ]
  },
  {
   "cell_type": "code",
   "execution_count": null,
   "metadata": {},
   "outputs": [],
   "source": [
    "# to download reads from SRA to fastq"
   ]
  },
  {
   "cell_type": "code",
   "execution_count": null,
   "metadata": {},
   "outputs": [],
   "source": [
    " if ob.download_fastq():\n",
    "        sraObs.append(ob)"
   ]
  },
  {
   "cell_type": "code",
   "execution_count": null,
   "metadata": {},
   "outputs": [],
   "source": [
    "# created Trim Galore object"
   ]
  },
  {
   "cell_type": "code",
   "execution_count": null,
   "metadata": {},
   "outputs": [],
   "source": [
    "tgOptions = {\"--cores\": \"10\"}\n",
    "tg = qc.Trimgalore()"
   ]
  },
  {
   "cell_type": "code",
   "execution_count": null,
   "metadata": {},
   "outputs": [],
   "source": [
    "# performed quality filtering using Trim Galore"
   ]
  },
  {
   "cell_type": "code",
   "execution_count": null,
   "metadata": {},
   "outputs": [],
   "source": [
    "for ob in sraObs:\n",
    "    ob.perform_qc(tg,**Opts)"
   ]
  },
  {
   "cell_type": "code",
   "execution_count": null,
   "metadata": {},
   "outputs": [],
   "source": [
    "# created STAR aligner object and StringTie object"
   ]
  },
  {
   "cell_type": "code",
   "execution_count": null,
   "metadata": {},
   "outputs": [],
   "source": [
    "starParams = {'--outFilterType' : 'BySJout' , '--outSAMtype' : 'BAM SortedByCoordinate'}\n",
    "\n",
    "star = mapping.Star(index = 'index')\n",
    "st = assembly.Stringtie()"
   ]
  },
  {
   "cell_type": "code",
   "execution_count": null,
   "metadata": {},
   "outputs": [],
   "source": [
    "# loop"
   ]
  },
  {
   "cell_type": "code",
   "execution_count": null,
   "metadata": {},
   "outputs": [],
   "source": [
    "for ob in sraObs:\n",
    "    bam = star.perform_alignment(ob,* *starParams)\n",
    "    st.perform_assembly(reference_gtf = 'ref.gtf', bam)"
   ]
  }
 ],
 "metadata": {
  "kernelspec": {
   "display_name": "Python 3",
   "language": "python",
   "name": "python3"
  },
  "language_info": {
   "codemirror_mode": {
    "name": "ipython",
    "version": 3
   },
   "file_extension": ".py",
   "mimetype": "text/x-python",
   "name": "python",
   "nbconvert_exporter": "python",
   "pygments_lexer": "ipython3",
   "version": "3.8.5"
  }
 },
 "nbformat": 4,
 "nbformat_minor": 4
}
